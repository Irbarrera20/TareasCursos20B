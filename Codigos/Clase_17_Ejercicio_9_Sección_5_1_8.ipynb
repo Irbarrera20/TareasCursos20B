{
  "nbformat": 4,
  "nbformat_minor": 0,
  "metadata": {
    "colab": {
      "provenance": []
    },
    "kernelspec": {
      "name": "python3",
      "display_name": "Python 3"
    },
    "language_info": {
      "name": "python"
    }
  },
  "cells": [
    {
      "cell_type": "markdown",
      "source": [
        "# Ejercicio 9 Sección 5.1.8\n",
        "La siguiente curva viene parametrizada por:"
      ],
      "metadata": {
        "id": "QQYfyjaYUOyU"
      }
    },
    {
      "cell_type": "code",
      "execution_count": 24,
      "metadata": {
        "colab": {
          "base_uri": "https://localhost:8080/",
          "height": 102
        },
        "id": "JKlZrZq7T9Ps",
        "outputId": "96027f77-a41e-403c-edc2-9e6926094485"
      },
      "outputs": [
        {
          "output_type": "display_data",
          "data": {
            "text/plain": [
              "<IPython.core.display.Math object>"
            ],
            "text/latex": "$\\displaystyle F(x,y,z) = - 81 a^{2} y + 27 a x z + y^{3} = 0$"
          },
          "metadata": {}
        },
        {
          "output_type": "display_data",
          "data": {
            "text/plain": [
              "<IPython.core.display.Math object>"
            ],
            "text/latex": "$\\displaystyle x = a u \\left(3 - u^{2}\\right)$"
          },
          "metadata": {}
        },
        {
          "output_type": "display_data",
          "data": {
            "text/plain": [
              "<IPython.core.display.Math object>"
            ],
            "text/latex": "$\\displaystyle y = 3 a u^{2}$"
          },
          "metadata": {}
        },
        {
          "output_type": "display_data",
          "data": {
            "text/plain": [
              "<IPython.core.display.Math object>"
            ],
            "text/latex": "$\\displaystyle z = a u \\left(u^{2} + 3\\right)$"
          },
          "metadata": {}
        }
      ],
      "source": [
        "import sympy as sp\n",
        "from sympy import *\n",
        "from sympy import latex\n",
        "from IPython.display import display, Math\n",
        "x, y, z, a, u, τ, κ, ρ = symbols('x y z a u τ κ ρ', positive=True)\n",
        "F = y**3 + 27*a*x*z - 81*(a**2)*y\n",
        "display(Math(rf\"F(x,y,z) = {sp.latex(F)} = 0\"))\n",
        "\n",
        "x = a*u*(3-u**2)\n",
        "y = 3*a*(u**2)\n",
        "z = a*u*(3+u**2)\n",
        "display(Math(rf\"x = {sp.latex(x)}\"))\n",
        "display(Math(rf\"y = {sp.latex(y)}\"))\n",
        "display(Math(rf\"z = {sp.latex(z)}\"))"
      ]
    },
    {
      "cell_type": "markdown",
      "source": [
        "Encuentre:\n",
        "\n",
        "a) d*s*/d*u*, si *s* es la distancia sobre la curva medida desde el origen"
      ],
      "metadata": {
        "id": "l8-bNeU0ZNl0"
      }
    },
    {
      "cell_type": "code",
      "source": [
        "#Primero generamos una matriz con las componentes x,y,z que define el radio vector\n",
        "r = Matrix([x,y,z])\n",
        "#Hallamos la derivada parcial de r respecto a u y su norma para hallar ds/du\n",
        "dru = diff(r,u)\n",
        "ds_du = simplify(factor(sqrt(dru.dot(dru))))\n",
        "display(Math(rf\"ds/du = {sp.latex(ds_du)}\"))\n"
      ],
      "metadata": {
        "colab": {
          "base_uri": "https://localhost:8080/",
          "height": 40
        },
        "id": "pwENzyHRYzLb",
        "outputId": "14b21ac9-389a-4421-a6cb-a5a8b4639edc"
      },
      "execution_count": 25,
      "outputs": [
        {
          "output_type": "display_data",
          "data": {
            "text/plain": [
              "<IPython.core.display.Math object>"
            ],
            "text/latex": "$\\displaystyle ds/du = 3 \\sqrt{2} a \\left(u^{2} + 1\\right)$"
          },
          "metadata": {}
        }
      ]
    },
    {
      "cell_type": "markdown",
      "source": [
        "b) La longitud de la curva desde el origen al punto cartesiano (2a,3a,4a)"
      ],
      "metadata": {
        "id": "gDr2FjsDZgaN"
      }
    },
    {
      "cell_type": "code",
      "source": [
        "# Primero identificamos el valor de u dado el punto cartesiano, en este caso usamos y=3*a*u^2\n",
        "u_val = solve(Eq(y, 3*a), u)\n",
        "\n",
        "# Teniendo en cuenta que (x,y,z)=(0,0,0) cuando u=0, planteamos la siguiente integral definida para hallar la longitud de desde el origen hasta (2a,3a,4a)\n",
        "s = simplify(integrate(ds_du, (u, 0, u_val[0])))\n",
        "display(Math(rf\"s = {sp.latex(s)}\"))"
      ],
      "metadata": {
        "colab": {
          "base_uri": "https://localhost:8080/",
          "height": 40
        },
        "id": "2QqiAJlune-e",
        "outputId": "c00d96c7-ebe9-4c32-f99c-e885c86c5c2d"
      },
      "execution_count": 26,
      "outputs": [
        {
          "output_type": "display_data",
          "data": {
            "text/plain": [
              "<IPython.core.display.Math object>"
            ],
            "text/latex": "$\\displaystyle s = 4 \\sqrt{2} a$"
          },
          "metadata": {}
        }
      ]
    },
    {
      "cell_type": "markdown",
      "source": [
        "c) El radio de curvatura en el punto u"
      ],
      "metadata": {
        "id": "RXqwBM9ypSco"
      }
    },
    {
      "cell_type": "code",
      "source": [
        "#Primero calcularemos el vector unitario tangente a la curva en términos de u\n",
        "τ_u = simplify(dru/ds_du)\n",
        "\n",
        "#Ahora empleamos la regla de la cadena para hallar dτ/ds = (dτ/du)(du/ds) = (dτ/du)/(ds/du)\n",
        "dτ_du = diff(τ_u, u)\n",
        "dτ_ds = simplify(dτ_du/ds_du)\n",
        "\n",
        "#Ahora hallamos la curvatura κ a partir de la norma de dτ_ds\n",
        "κ_u = simplify(factor(sqrt(dτ_ds.dot(dτ_ds))))\n",
        "\n",
        "#Por último, hallamos el radio de curvatura, el cual es el inverso de la curvatura κ\n",
        "ρ_u = simplify(factor(1/κ_u))\n",
        "display(Math(rf\"\\rho(u) = {latex(ρ_u)}\"))"
      ],
      "metadata": {
        "colab": {
          "base_uri": "https://localhost:8080/",
          "height": 41
        },
        "id": "CwXg-l1fpYwQ",
        "outputId": "7c0c8018-304b-48a3-bd7f-0db5b6117458"
      },
      "execution_count": 27,
      "outputs": [
        {
          "output_type": "display_data",
          "data": {
            "text/plain": [
              "<IPython.core.display.Math object>"
            ],
            "text/latex": "$\\displaystyle \\rho(u) = 3 a \\left(u^{2} + 1\\right)^{2}$"
          },
          "metadata": {}
        }
      ]
    },
    {
      "cell_type": "markdown",
      "source": [
        "d) La torsión y la curvatura para todo punto de la curva"
      ],
      "metadata": {
        "id": "pi-UHQqipY8N"
      }
    },
    {
      "cell_type": "code",
      "source": [
        "#Para hallar la torsión, primero calcularemos el vector normal unitario n\n",
        "n = simplify((1/κ_u)*(dτ_ds))\n",
        "\n",
        "#A partir de éste, calculamos el vector unitario binormal b\n",
        "b = simplify(τ_u.cross(n))\n",
        "\n",
        "# Para calcular la torsión τ necesitamos db/ds = (db/du)(du/ds) = (db/du)/(ds/du)\n",
        "db_du = diff(b, u)\n",
        "db_ds = simplify(db_du/ds_du)\n",
        "\n",
        "#Por último, hallamos la torsión τ a partir de el producto cruz entre (-n) y db/ds\n",
        "τ = simplify(factor(((-1)*n).dot(db_ds)))\n",
        "display(Math(rf\"τ = {latex(τ)}\"))\n",
        "\n",
        "display(Math(rf\"κ(u) = {latex(κ_u)}\"))"
      ],
      "metadata": {
        "colab": {
          "base_uri": "https://localhost:8080/",
          "height": 99
        },
        "id": "QJ3dOU_upcus",
        "outputId": "fade76bc-ef88-43ec-8c52-2f0589e712af"
      },
      "execution_count": 28,
      "outputs": [
        {
          "output_type": "display_data",
          "data": {
            "text/plain": [
              "<IPython.core.display.Math object>"
            ],
            "text/latex": "$\\displaystyle τ = \\frac{1}{3 a \\left(u^{2} + 1\\right)^{2}}$"
          },
          "metadata": {}
        },
        {
          "output_type": "display_data",
          "data": {
            "text/plain": [
              "<IPython.core.display.Math object>"
            ],
            "text/latex": "$\\displaystyle κ(u) = \\frac{1}{3 a \\left(u^{2} + 1\\right)^{2}}$"
          },
          "metadata": {}
        }
      ]
    },
    {
      "cell_type": "markdown",
      "source": [
        "e) Escriba las expresiones que resultan de usar las fórmulas de Fernet-Serret"
      ],
      "metadata": {
        "id": "-cWrnAXIpc6F"
      }
    },
    {
      "cell_type": "code",
      "source": [
        "#Éstas ya fueron calculadas en los incisos c) y d), por lo tanto solo las vamos a imprimir\n",
        "display(Math(rf\"τ(u) = {latex(τ_u)}\"))\n",
        "display(Math(rf\"n(u) = {latex(n)}\"))\n",
        "display(Math(rf\"b(u) = {latex(b)}\"))"
      ],
      "metadata": {
        "colab": {
          "base_uri": "https://localhost:8080/",
          "height": 245
        },
        "id": "p8kV8mxALtUC",
        "outputId": "55761252-c6d9-4503-9a0c-b58f518b081b"
      },
      "execution_count": 29,
      "outputs": [
        {
          "output_type": "display_data",
          "data": {
            "text/plain": [
              "<IPython.core.display.Math object>"
            ],
            "text/latex": "$\\displaystyle τ(u) = \\left[\\begin{matrix}\\frac{\\sqrt{2} \\left(1 - u^{2}\\right)}{2 \\left(u^{2} + 1\\right)}\\\\\\frac{\\sqrt{2} u}{u^{2} + 1}\\\\\\frac{\\sqrt{2}}{2}\\end{matrix}\\right]$"
          },
          "metadata": {}
        },
        {
          "output_type": "display_data",
          "data": {
            "text/plain": [
              "<IPython.core.display.Math object>"
            ],
            "text/latex": "$\\displaystyle n(u) = \\left[\\begin{matrix}- \\frac{2 u}{u^{2} + 1}\\\\\\frac{1 - u^{2}}{u^{2} + 1}\\\\0\\end{matrix}\\right]$"
          },
          "metadata": {}
        },
        {
          "output_type": "display_data",
          "data": {
            "text/plain": [
              "<IPython.core.display.Math object>"
            ],
            "text/latex": "$\\displaystyle b(u) = \\left[\\begin{matrix}\\frac{\\sqrt{2} \\left(u^{2} - 1\\right)}{2 \\left(u^{2} + 1\\right)}\\\\- \\frac{\\sqrt{2} u}{u^{2} + 1}\\\\\\frac{\\sqrt{2}}{2}\\end{matrix}\\right]$"
          },
          "metadata": {}
        }
      ]
    }
  ]
}