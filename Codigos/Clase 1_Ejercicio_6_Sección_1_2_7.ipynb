{
  "nbformat": 4,
  "nbformat_minor": 0,
  "metadata": {
    "colab": {
      "provenance": [],
      "authorship_tag": "ABX9TyMkxmECVMpSN1T6TDKXo7Rv",
      "include_colab_link": true
    },
    "kernelspec": {
      "name": "python3",
      "display_name": "Python 3"
    },
    "language_info": {
      "name": "python"
    }
  },
  "cells": [
    {
      "cell_type": "markdown",
      "metadata": {
        "id": "view-in-github",
        "colab_type": "text"
      },
      "source": [
        "<a href=\"https://colab.research.google.com/github/Irbarrera20/TareasCursos20B/blob/main/Ejercicio_6_Secci%C3%B3n_1_2_7.ipynb\" target=\"_parent\"><img src=\"https://colab.research.google.com/assets/colab-badge.svg\" alt=\"Open In Colab\"/></a>"
      ]
    },
    {
      "cell_type": "markdown",
      "source": [
        "# Ejercicio 6 Sección 1.2.7\n",
        "Considere los siguientes vectores:"
      ],
      "metadata": {
        "id": "I2XvKpJanxrM"
      }
    },
    {
      "cell_type": "code",
      "execution_count": null,
      "metadata": {
        "id": "niCWkOopNcRX"
      },
      "outputs": [],
      "source": [
        "import sympy\n",
        "from sympy import *"
      ]
    },
    {
      "cell_type": "code",
      "source": [
        "a = Matrix([1,2,3])\n",
        "b = Matrix ([4,5,6])\n",
        "c = Matrix ([3,2,1])\n",
        "d = Matrix ([6,5,4])\n",
        "\n",
        "e1 = Matrix([1,0,0])\n",
        "e2 = Matrix([0,1,0])\n",
        "e3 = Matrix([0,0,1])"
      ],
      "metadata": {
        "id": "88N7-hX9ofxg"
      },
      "execution_count": null,
      "outputs": []
    },
    {
      "cell_type": "markdown",
      "source": [
        "Encuentre las operaciones indicadas:"
      ],
      "metadata": {
        "id": "OF35e3IrwIgC"
      }
    },
    {
      "cell_type": "markdown",
      "source": [
        "a) Las siguientes sumas"
      ],
      "metadata": {
        "id": "GF1HKiKUwW18"
      }
    },
    {
      "cell_type": "code",
      "source": [
        "s1 = a + b + c + d\n",
        "s2 = a + b - c - d\n",
        "s3 = a - b + c - d\n",
        "s4 = - a + b - c + d\n",
        "sumas = [s1,s2,s3,s4]\n",
        "\n",
        "for i, op in enumerate(sumas, start=1):\n",
        "    print(f\"Suma {i}: {op}\")"
      ],
      "metadata": {
        "id": "nBW6AkLDtEBr",
        "colab": {
          "base_uri": "https://localhost:8080/"
        },
        "outputId": "e19ca73e-8323-40f9-ede4-5d21096e85c4"
      },
      "execution_count": null,
      "outputs": [
        {
          "output_type": "stream",
          "name": "stdout",
          "text": [
            "Suma 1: Matrix([[14], [14], [14]])\n",
            "Suma 2: Matrix([[-4], [0], [4]])\n",
            "Suma 3: Matrix([[-6], [-6], [-6]])\n",
            "Suma 4: Matrix([[6], [6], [6]])\n"
          ]
        }
      ]
    },
    {
      "cell_type": "markdown",
      "source": [
        "b) El ángulo entre a,b,c,d y los vectores base empleados"
      ],
      "metadata": {
        "id": "tiLjiQ4Fw45j"
      }
    },
    {
      "cell_type": "code",
      "source": [
        "bases = {'e1': e1, 'e2': e2, 'e3': e3}\n",
        "vectores = {'a': a, 'b': b, 'c': c, 'd': d}\n",
        "\n",
        "for vector, v in vectores.items():\n",
        "  nv = v.norm()\n",
        "  print(f\"\\nÁngulos para el vector {vector}:\")\n",
        "  for v_base, e in bases.items():\n",
        "        theta = acos(v.dot(e)/(nv))\n",
        "        grados = theta * 180 / pi\n",
        "        print(f\"El ángulo con el vector base {v_base} es de {N(grados,3)}°\")"
      ],
      "metadata": {
        "id": "ntafpMQRw3j1",
        "colab": {
          "base_uri": "https://localhost:8080/"
        },
        "outputId": "72ce142d-ac9f-4e37-eabe-2768b5ae24dc"
      },
      "execution_count": null,
      "outputs": [
        {
          "output_type": "stream",
          "name": "stdout",
          "text": [
            "\n",
            "Ángulos para el vector a:\n",
            "El ángulo con el vector base e1 es de 74.5°\n",
            "El ángulo con el vector base e2 es de 57.7°\n",
            "El ángulo con el vector base e3 es de 36.7°\n",
            "\n",
            "Ángulos para el vector b:\n",
            "El ángulo con el vector base e1 es de 62.9°\n",
            "El ángulo con el vector base e2 es de 55.3°\n",
            "El ángulo con el vector base e3 es de 46.9°\n",
            "\n",
            "Ángulos para el vector c:\n",
            "El ángulo con el vector base e1 es de 36.7°\n",
            "El ángulo con el vector base e2 es de 57.7°\n",
            "El ángulo con el vector base e3 es de 74.5°\n",
            "\n",
            "Ángulos para el vector d:\n",
            "El ángulo con el vector base e1 es de 46.9°\n",
            "El ángulo con el vector base e2 es de 55.3°\n",
            "El ángulo con el vector base e3 es de 62.9°\n"
          ]
        }
      ]
    },
    {
      "cell_type": "markdown",
      "source": [
        "c) La magnitud de los vectores a, b, c, d."
      ],
      "metadata": {
        "id": "Fr0NZhSpYZ56"
      }
    },
    {
      "cell_type": "code",
      "source": [
        "vectores = {'a': a, 'b': b, 'c': c, 'd': d}\n",
        "\n",
        "m1 = a.norm()\n",
        "m2 = b.norm()\n",
        "m3 = c.norm()\n",
        "m4 = d.norm()\n",
        "magnitudes = [m1,m2,m3,m4]\n",
        "\n",
        "for vectores, mag in zip(vectores, magnitudes):\n",
        "    print(f\"Magnitud del vector {vectores}: {mag}\")"
      ],
      "metadata": {
        "colab": {
          "base_uri": "https://localhost:8080/"
        },
        "id": "rgu3UlHvYhEh",
        "outputId": "20a479f0-c5b8-4303-cecd-5ed1c23dc335"
      },
      "execution_count": null,
      "outputs": [
        {
          "output_type": "stream",
          "name": "stdout",
          "text": [
            "Magnitud del vector a: sqrt(14)\n",
            "Magnitud del vector b: sqrt(77)\n",
            "Magnitud del vector c: sqrt(14)\n",
            "Magnitud del vector d: sqrt(77)\n"
          ]
        }
      ]
    },
    {
      "cell_type": "markdown",
      "source": [
        "d) El ángulo entre a y b y entre c y d\n",
        "\n",
        "\n"
      ],
      "metadata": {
        "id": "bFI9GG-kZ3B9"
      }
    },
    {
      "cell_type": "code",
      "source": [
        "angulo_ab = acos(a.dot(b)/(a.norm()*b.norm()))*180/pi\n",
        "angulo_cd = acos(c.dot(d)/(c.norm()*d.norm()))*180/pi\n",
        "print(f\"Ángulo entre a y b: {N(angulo_ab, 4)}°\")\n",
        "print(f\"Ángulo entre c y d: {N(angulo_cd, 4)}°\")"
      ],
      "metadata": {
        "colab": {
          "base_uri": "https://localhost:8080/"
        },
        "id": "pBbKWXd8Z-Cy",
        "outputId": "7387396e-ac55-4bbe-fc2a-7bc752aff108"
      },
      "execution_count": null,
      "outputs": [
        {
          "output_type": "stream",
          "name": "stdout",
          "text": [
            "Ángulo entre a y b: 12.93°\n",
            "Ángulo entre c y d: 12.93°\n"
          ]
        }
      ]
    },
    {
      "cell_type": "markdown",
      "source": [
        "e) La proyección de a sobre b"
      ],
      "metadata": {
        "id": "ElJsDdBHak9I"
      }
    },
    {
      "cell_type": "code",
      "source": [
        "proyec_ab = (a.dot(b) / b.dot(b))*b\n",
        "print(\"La proyección del vector a sobre b es:\", proyec_ab)"
      ],
      "metadata": {
        "colab": {
          "base_uri": "https://localhost:8080/"
        },
        "id": "ZJrkscodbFvr",
        "outputId": "1f850f10-3e04-41a0-887d-144b2bd91799"
      },
      "execution_count": null,
      "outputs": [
        {
          "output_type": "stream",
          "name": "stdout",
          "text": [
            "La proyección del vector a sobre b es: Matrix([[128/77], [160/77], [192/77]])\n"
          ]
        }
      ]
    },
    {
      "cell_type": "markdown",
      "source": [
        "f) Si los vectores a, b, c, d coplanares"
      ],
      "metadata": {
        "id": "62qVY3pgcpDh"
      }
    },
    {
      "cell_type": "code",
      "source": [
        "vectores = {'a': a, 'b': b, 'c': c, 'd': d}\n",
        "\n",
        "abc = a.dot(b.cross(c))\n",
        "abd = a.dot(b.cross(d))\n",
        "acd = a.dot(c.cross(d))\n",
        "bcd = b.dot(c.cross(d))\n",
        "\n",
        "verif_copl = [abc, abd, acd, bcd]\n",
        "\n",
        "for i, verif in enumerate(verif_copl):\n",
        "    T_p_m = [\"abc\", \"abd\", \"acd\", \"bcd\"][i]\n",
        "    print(f\"El triple producto mixto entre los vectores ({T_p_m}) es {verif}\")\n",
        "    if verif == 0:\n",
        "      print(\"Los vectores son coplanares\")\n",
        "    else:\n",
        "      print(\"Los vectores no son coplanares\")"
      ],
      "metadata": {
        "colab": {
          "base_uri": "https://localhost:8080/"
        },
        "id": "JntytUxEc-EX",
        "outputId": "9831a575-1039-4e42-ec04-a28eb8415834"
      },
      "execution_count": null,
      "outputs": [
        {
          "output_type": "stream",
          "name": "stdout",
          "text": [
            "El triple producto mixto entre los vectores (abc) es 0\n",
            "Los vectores son coplanares\n",
            "El triple producto mixto entre los vectores (abd) es 0\n",
            "Los vectores son coplanares\n",
            "El triple producto mixto entre los vectores (acd) es 0\n",
            "Los vectores son coplanares\n",
            "El triple producto mixto entre los vectores (bcd) es 0\n",
            "Los vectores son coplanares\n"
          ]
        }
      ]
    },
    {
      "cell_type": "markdown",
      "source": [
        "g) Encuentre (a + b) · (c + d)"
      ],
      "metadata": {
        "id": "aPSUqq7OrUc_"
      }
    },
    {
      "cell_type": "code",
      "source": [
        "punto_sumas = (a + b).dot(c + d)\n",
        "print(\"El resultado de la operación (a + b) · (c + d) es \", punto_sumas)"
      ],
      "metadata": {
        "colab": {
          "base_uri": "https://localhost:8080/"
        },
        "id": "qh6ARTqVrcAp",
        "outputId": "df5702dd-b629-4943-cf5b-b42c42a8496a"
      },
      "execution_count": null,
      "outputs": [
        {
          "output_type": "stream",
          "name": "stdout",
          "text": [
            "El resultado de la operación (a + b) · (c + d) es  139\n"
          ]
        }
      ]
    },
    {
      "cell_type": "markdown",
      "source": [
        "h) Los productos a × b, b × c, c × d y los ángulos que estos forman con d."
      ],
      "metadata": {
        "id": "ttaKYuthr6kj"
      }
    },
    {
      "cell_type": "code",
      "source": [
        "axb = a.cross(b)\n",
        "bxc = b.cross(c)\n",
        "cxd = c.cross(d)\n",
        "Cruz = [axb, bxc, cxd]\n",
        "\n",
        "for i, cruz in enumerate(Cruz):\n",
        "    Productos_cruz = [\"axb\", \"bxc\", \"cxd\"][i]\n",
        "    print(f\"El producto cruz ({Productos_cruz}) es {cruz}\")\n",
        "\n",
        "angulo_axb_d = acos(axb.dot(d)/(axb.norm()*d.norm()))*180/pi\n",
        "angulo_bxc_d = acos(bxc.dot(d)/(bxc.norm()*d.norm()))*180/pi\n",
        "angulo_cxd_d = acos(cxd.dot(d)/(cxd.norm()*d.norm()))*180/pi\n",
        "print(f\"Ángulo entre axb y d: {N(angulo_axb_d, 4)}°\")\n",
        "print(f\"Ángulo entre bxc y d: {N(angulo_bxc_d, 4)}°\")\n",
        "print(f\"Ángulo entre cxd y d: {N(angulo_cxd_d, 4)}°\")"
      ],
      "metadata": {
        "colab": {
          "base_uri": "https://localhost:8080/"
        },
        "id": "6_EK4yesr-q-",
        "outputId": "8c1ceca8-adc0-47fd-d4c2-616b7b6080ba"
      },
      "execution_count": null,
      "outputs": [
        {
          "output_type": "stream",
          "name": "stdout",
          "text": [
            "El producto cruz (axb) es Matrix([[-3], [6], [-3]])\n",
            "El producto cruz (bxc) es Matrix([[-7], [14], [-7]])\n",
            "El producto cruz (cxd) es Matrix([[3], [-6], [3]])\n",
            "Ángulo entre axb y d: 90.00°\n",
            "Ángulo entre bxc y d: 90.00°\n",
            "Ángulo entre cxd y d: 90.00°\n"
          ]
        }
      ]
    },
    {
      "cell_type": "markdown",
      "source": [
        "i) c · (a × b)"
      ],
      "metadata": {
        "id": "tyBpTaRe3Ygx"
      }
    },
    {
      "cell_type": "code",
      "source": [
        "punto_cruz = c.dot(a.cross(b))\n",
        "print(\"El resultado de la operación c · (a × b) es igual a\", punto_cruz)"
      ],
      "metadata": {
        "colab": {
          "base_uri": "https://localhost:8080/"
        },
        "id": "6KVdWCTivPvI",
        "outputId": "62177577-3892-4c80-91df-25da7b6d58d5"
      },
      "execution_count": null,
      "outputs": [
        {
          "output_type": "stream",
          "name": "stdout",
          "text": [
            "El resultado de la operación c · (a × b) es igual a 0\n"
          ]
        }
      ]
    }
  ]
}
