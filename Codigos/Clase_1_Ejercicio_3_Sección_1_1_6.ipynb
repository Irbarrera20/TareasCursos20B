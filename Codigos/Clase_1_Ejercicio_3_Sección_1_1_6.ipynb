{
  "nbformat": 4,
  "nbformat_minor": 0,
  "metadata": {
    "colab": {
      "provenance": [],
      "authorship_tag": "ABX9TyNXAEqhB/+g2TYbxLvBqENt",
      "include_colab_link": true
    },
    "kernelspec": {
      "name": "python3",
      "display_name": "Python 3"
    },
    "language_info": {
      "name": "python"
    }
  },
  "cells": [
    {
      "cell_type": "markdown",
      "metadata": {
        "id": "view-in-github",
        "colab_type": "text"
      },
      "source": [
        "<a href=\"https://colab.research.google.com/github/Irbarrera20/TareasCursos20B/blob/main/Clase_1_Ejercicio_3_Secci%C3%B3n_1_1_6.ipynb\" target=\"_parent\"><img src=\"https://colab.research.google.com/assets/colab-badge.svg\" alt=\"Open In Colab\"/></a>"
      ]
    },
    {
      "cell_type": "markdown",
      "source": [
        "# Ejercicio 3 Sección 1.1.6\n",
        "\n",
        "Realice un código para el cual, dado tres vectores que formen los lados de un triángulo, calcule el centroide."
      ],
      "metadata": {
        "id": "iPuY9CJrhf7m"
      }
    },
    {
      "cell_type": "markdown",
      "source": [
        "En primera medida, vamos a comprobar que, efectivamente, la ecuación g=(a+b+c)/3 permite el cálculo del vector posición g del centroide G del triángulo, según lo expuesto en el ejercicio del texto guía."
      ],
      "metadata": {
        "id": "pf7gkoEtjWf9"
      }
    },
    {
      "cell_type": "code",
      "execution_count": 8,
      "metadata": {
        "colab": {
          "base_uri": "https://localhost:8080/"
        },
        "id": "yacLcmDifogx",
        "outputId": "e66b4d64-9641-41a1-ea66-9c0305c6a361"
      },
      "outputs": [
        {
          "output_type": "stream",
          "name": "stdout",
          "text": [
            "Punto medio de BC = Matrix([[bx/2 + cx/2], [by/2 + cy/2], [bz/2 + cz/2]])\n",
            "Punto medio de AC = Matrix([[ax/2 + cx/2], [ay/2 + cy/2], [az/2 + cz/2]])\n",
            "Ecuación de la mediana desde A: Matrix([[ax + t*(-ax + bx/2 + cx/2)], [ay + t*(-ay + by/2 + cy/2)], [az + t*(-az + bz/2 + cz/2)]])\n",
            "Ecuación de la mediana desde B: Matrix([[bx + s*(ax/2 - bx + cx/2)], [by + s*(ay/2 - by + cy/2)], [bz + s*(az/2 - bz + cz/2)]])\n",
            "La solución para los parámetros empleados es {s: 2/3, t: 2/3}\n",
            "La ubicación del centroide G es Matrix([[ax/3 + bx/3 + cx/3], [ay/3 + by/3 + cy/3], [az/3 + bz/3 + cz/3]])\n"
          ]
        }
      ],
      "source": [
        "import sympy\n",
        "from sympy import *\n",
        "\n",
        "ax, ay, az = symbols('ax ay az')\n",
        "bx, by, bz = symbols('bx by bz')\n",
        "cx, cy, cz = symbols('cx cy cz')\n",
        "\n",
        "a = Matrix([ax, ay, az])\n",
        "b = Matrix([bx, by, bz])\n",
        "c = Matrix([cx, cy, cz])\n",
        "\n",
        "# Primero, definimos los puntos medios de los lados bc y ac\n",
        "m_bc = (b + c) / 2\n",
        "m_ac = (a + c) / 2\n",
        "print(\"Punto medio de BC =\", m_bc)\n",
        "print(\"Punto medio de AC =\", m_ac)\n",
        "\n",
        "# Luego, hallamos la ecuación de las dos medianas: desde el vértice a hacia el punto medio de bc, y desde el vértice b hacia el punto medio de ac\n",
        "t, s = symbols('t s')\n",
        "mediana_A = a + t * (m_bc - a)\n",
        "mediana_B = b + s * (m_ac - b)\n",
        "print(\"Ecuación de la mediana desde A:\", mediana_A)\n",
        "print(\"Ecuación de la mediana desde B:\", mediana_B)\n",
        "\n",
        "# Ahora igualamos las ecuaciones para hallar su intersección\n",
        "sol = solve(list(mediana_A - mediana_B), [t, s], dict=True)[0]\n",
        "print(\"La solución para los parámetros empleados es\", sol)\n",
        "\n",
        "# Por último, sustituimos el valor del parámeto t en la primera ecuación de mediana hallada para hallar la ubicación del centroide\n",
        "g = simplify(mediana_A.subs(t, sol[t]))\n",
        "print(\"La ubicación del centroide G es\", g)"
      ]
    },
    {
      "cell_type": "markdown",
      "source": [
        "Como se observa, la ecuación resultante de la ubicación del centroide del tríangulo es a misma que el texto guía nos proporciona, solo que en este caso está expuesta de una manera más explicita.\n",
        "\n",
        "Ahora pasemos a calcular el centroide dados tres vectores que formen los lados de un triángulo. Para este ejercicio tengamos en cuenta que es importante convertir los vectores dados (que son los lados del triángulo) a vectores posición. Es decir, que si tenemos tres vectores a, b y c que son los lados de un triángulo, se diría que a+b+c=0"
      ],
      "metadata": {
        "id": "PHcopz6om7sz"
      }
    },
    {
      "cell_type": "code",
      "source": [
        "# Definimos primero una función que nos permita hacer los cálculos necesarios\n",
        "def centroide_lados(a, b, c):\n",
        "  if (a+b+c) != Matrix([0, 0, 0]):\n",
        "    return \"Error: los tres vectores no forman un triángulo.\"\n",
        "  A = Matrix([0, 0, 0])\n",
        "  B = a\n",
        "  C = a + b\n",
        "  G = simplify((A + B + C) / 3)\n",
        "  return G\n",
        "\n",
        "a = Matrix([1, 0, 0])\n",
        "b = Matrix([0, 1, 0])\n",
        "c = Matrix([1, -3, 0])\n",
        "\n",
        "centroide = centroide_lados(a, b, c)\n",
        "print(\"El centroide del tríangulo dado se ubica en\", centroide)"
      ],
      "metadata": {
        "colab": {
          "base_uri": "https://localhost:8080/"
        },
        "id": "x17Lhf0TncQh",
        "outputId": "a888f2ee-ffc4-4826-80d2-caba711058cd"
      },
      "execution_count": 9,
      "outputs": [
        {
          "output_type": "stream",
          "name": "stdout",
          "text": [
            "El centroide del tríangulo dado se ubica en Error: los tres vectores no forman un triángulo.\n"
          ]
        }
      ]
    }
  ]
}
