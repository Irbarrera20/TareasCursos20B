{
  "nbformat": 4,
  "nbformat_minor": 0,
  "metadata": {
    "colab": {
      "provenance": [],
      "authorship_tag": "ABX9TyMgKodM/qX6YdYaJmsJUunm",
      "include_colab_link": true
    },
    "kernelspec": {
      "name": "python3",
      "display_name": "Python 3"
    },
    "language_info": {
      "name": "python"
    }
  },
  "cells": [
    {
      "cell_type": "markdown",
      "metadata": {
        "id": "view-in-github",
        "colab_type": "text"
      },
      "source": [
        "<a href=\"https://colab.research.google.com/github/Irbarrera20/TareasCursos20B/blob/main/Clase_2_Ejercicio_13_Secci%C3%B3n_1_5_7.ipynb\" target=\"_parent\"><img src=\"https://colab.research.google.com/assets/colab-badge.svg\" alt=\"Open In Colab\"/></a>"
      ]
    },
    {
      "cell_type": "markdown",
      "source": [
        "# Ejercicio 13 Sección 1.5.7\n",
        "\n",
        "Dado el campo fuerza:"
      ],
      "metadata": {
        "id": "D63r1RBerhzf"
      }
    },
    {
      "cell_type": "code",
      "execution_count": 4,
      "metadata": {
        "colab": {
          "base_uri": "https://localhost:8080/",
          "height": 58
        },
        "id": "TpHJBhOtrTKl",
        "outputId": "3f243dc1-ffc9-4428-f94e-e4446077aab5"
      },
      "outputs": [
        {
          "output_type": "execute_result",
          "data": {
            "text/plain": [
              "(-R.y/(R.x**2 + R.y**2))*R.i + (R.x/(R.x**2 + R.y**2))*R.j"
            ],
            "text/latex": "$\\displaystyle \\left(- \\frac{\\mathbf{{y}_{R}}}{\\mathbf{{x}_{R}}^{2} + \\mathbf{{y}_{R}}^{2}}\\right)\\mathbf{\\hat{i}_{R}} + \\left(\\frac{\\mathbf{{x}_{R}}}{\\mathbf{{x}_{R}}^{2} + \\mathbf{{y}_{R}}^{2}}\\right)\\mathbf{\\hat{j}_{R}}$"
          },
          "metadata": {},
          "execution_count": 4
        }
      ],
      "source": [
        "import sympy\n",
        "from sympy import *\n",
        "from sympy.vector import *\n",
        "R = CoordSys3D('R')\n",
        "x,y,z = symbols('x y z')\n",
        "\n",
        "F=R.y*(-1)/(R.x**2+R.y**2)*R.i+R.x/(R.x**2+R.y**2)*R.j\n",
        "F"
      ]
    },
    {
      "cell_type": "markdown",
      "source": [
        "Calcule el trabajo hecho en contra de este campo de fuerza al moverse alrededor de un círculo de radio uno y en el plano xy\n",
        "\n",
        "a) Desde 0 a pi en sentido contrario a las agujas del reloj\n",
        "\n",
        "b) Desde 0 a -pi en sentido de las agujas del reloj"
      ],
      "metadata": {
        "id": "DpeT8IuIr2Zp"
      }
    },
    {
      "cell_type": "code",
      "source": [
        "theta, theta1, theta2 = symbols('theta theta1 theta2', real=True)\n",
        "\n",
        "# Gracias a la naturaleza del ejercicio, podemos usar coordenadas polares para resolver el problema\n",
        "x_theta = cos(theta)\n",
        "y_theta = sin(theta)\n",
        "Fx_theta = simplify((-R.y/(R.x**2 + R.y**2)).subs({R.x: x_theta, R.y: y_theta})) # Donde tenemos que x**2+y**2=1\n",
        "Fy_theta = simplify((R.x/(R.x**2 + R.y**2)).subs({R.x: x_theta, R.y: y_theta}))\n",
        "F_theta = Fx_theta*R.i + Fy_theta*R.j # Nueva función en coordenadas polares\n",
        "\n",
        "# Ahora pasamos a definir el dr\n",
        "dx = diff(x_theta, theta)\n",
        "dy = diff(y_theta, theta)\n",
        "dr = dx*R.i + dy*R.j\n",
        "\n",
        "# Llevamos a cabo el integrando (producto punto)\n",
        "integrando = simplify(F_theta.dot(dr))\n",
        "print(\"El integrando (F · dr) simplificado es =\", integrando)\n",
        "\n",
        "# Por último, hallamos primero el trabajo hecho por el campo en los intervalos dados para a) y b) y luego el trabajo en contra de este\n",
        "print(\"Para la parte a, con theta en el intervalo [0, pi]:\")\n",
        "W_por_a = integrate(integrando, (theta, 0, pi))\n",
        "W_por_a = simplify(W_por_a)\n",
        "W_contra_a = simplify(-W_por_a) #Ya que buscamos es el trabajo en contra del campo\n",
        "print(\"El trabajo en contra del campo es =\", W_contra_a)\n",
        "\n",
        "print(\"Para la parte b, con theta en el intervalo [0, pi]:\")\n",
        "W_por_b = integrate(integrando, (theta, 0, -pi))\n",
        "W_por_b = simplify(W_por_b)\n",
        "W_contra_b = simplify(-W_por_b) #Ya que buscamos es el trabajo en contra del campo\n",
        "print(\"El trabajo en contra del campo es =\", W_contra_b)"
      ],
      "metadata": {
        "colab": {
          "base_uri": "https://localhost:8080/"
        },
        "id": "aMyZjtkjsF7b",
        "outputId": "fe46c96d-a02d-4898-9076-7f50e36fd134"
      },
      "execution_count": 16,
      "outputs": [
        {
          "output_type": "stream",
          "name": "stdout",
          "text": [
            "El integrando (F · dr) simplificado es = 1\n",
            "Para la parte a, con theta en el intervalo [0, pi]:\n",
            "El trabajo en contra del campo es = -pi\n",
            "Para la parte b, con theta en el intervalo [0, pi]:\n",
            "El trabajo en contra del campo es = pi\n"
          ]
        }
      ]
    }
  ]
}