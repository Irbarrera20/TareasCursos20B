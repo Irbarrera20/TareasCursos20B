{
  "nbformat": 4,
  "nbformat_minor": 0,
  "metadata": {
    "colab": {
      "provenance": [],
      "authorship_tag": "ABX9TyMWewyt+TRzRzcDqI26dT8J",
      "include_colab_link": true
    },
    "kernelspec": {
      "name": "python3",
      "display_name": "Python 3"
    },
    "language_info": {
      "name": "python"
    }
  },
  "cells": [
    {
      "cell_type": "markdown",
      "metadata": {
        "id": "view-in-github",
        "colab_type": "text"
      },
      "source": [
        "<a href=\"https://colab.research.google.com/github/Irbarrera20/TareasCursos20B/blob/main/Clase_5_Ejercicio_6_Secci%C3%B3n_2_3_6.ipynb\" target=\"_parent\"><img src=\"https://colab.research.google.com/assets/colab-badge.svg\" alt=\"Open In Colab\"/></a>"
      ]
    },
    {
      "cell_type": "markdown",
      "source": [
        "# Ejercicio 6 Sección 2.3.6\n",
        " Utilizando SymPy reproduzca el ejemplo 2. que expusimos en la página 131 pero en este caso con un producto interno distinto. Encuentre la base ortogonal correspondiente. A esta nueva base se le conoce como polinomios de\n",
        " Chebyshev de segunda especie"
      ],
      "metadata": {
        "id": "krQKNigQEnqe"
      }
    },
    {
      "cell_type": "code",
      "execution_count": 1,
      "metadata": {
        "id": "gLyGPqngC2u1",
        "colab": {
          "base_uri": "https://localhost:8080/",
          "height": 404
        },
        "outputId": "ee20d7f3-bce4-43fe-cfa6-a1b33992eebb"
      },
      "outputs": [
        {
          "output_type": "display_data",
          "data": {
            "text/plain": [
              "<IPython.core.display.Math object>"
            ],
            "text/latex": "$\\displaystyle \\textbf{Primeros 10 Polinomios de Chebyshev:}$"
          },
          "metadata": {}
        },
        {
          "output_type": "display_data",
          "data": {
            "text/plain": [
              "<IPython.core.display.Math object>"
            ],
            "text/latex": "$\\displaystyle T_{0}(x) = 1$"
          },
          "metadata": {}
        },
        {
          "output_type": "display_data",
          "data": {
            "text/plain": [
              "<IPython.core.display.Math object>"
            ],
            "text/latex": "$\\displaystyle T_{1}(x) = t$"
          },
          "metadata": {}
        },
        {
          "output_type": "display_data",
          "data": {
            "text/plain": [
              "<IPython.core.display.Math object>"
            ],
            "text/latex": "$\\displaystyle T_{2}(x) = t^{2} - \\frac{1}{4}$"
          },
          "metadata": {}
        },
        {
          "output_type": "display_data",
          "data": {
            "text/plain": [
              "<IPython.core.display.Math object>"
            ],
            "text/latex": "$\\displaystyle T_{3}(x) = t^{3} - \\frac{t}{2}$"
          },
          "metadata": {}
        },
        {
          "output_type": "display_data",
          "data": {
            "text/plain": [
              "<IPython.core.display.Math object>"
            ],
            "text/latex": "$\\displaystyle T_{4}(x) = t^{4} - \\frac{3 t^{2}}{4} + \\frac{1}{16}$"
          },
          "metadata": {}
        },
        {
          "output_type": "display_data",
          "data": {
            "text/plain": [
              "<IPython.core.display.Math object>"
            ],
            "text/latex": "$\\displaystyle T_{5}(x) = t^{5} - t^{3} + \\frac{3 t}{16}$"
          },
          "metadata": {}
        },
        {
          "output_type": "display_data",
          "data": {
            "text/plain": [
              "<IPython.core.display.Math object>"
            ],
            "text/latex": "$\\displaystyle T_{6}(x) = t^{6} - \\frac{5 t^{4}}{4} + \\frac{3 t^{2}}{8} - \\frac{1}{64}$"
          },
          "metadata": {}
        },
        {
          "output_type": "display_data",
          "data": {
            "text/plain": [
              "<IPython.core.display.Math object>"
            ],
            "text/latex": "$\\displaystyle T_{7}(x) = t^{7} - \\frac{3 t^{5}}{2} + \\frac{5 t^{3}}{8} - \\frac{t}{16}$"
          },
          "metadata": {}
        },
        {
          "output_type": "display_data",
          "data": {
            "text/plain": [
              "<IPython.core.display.Math object>"
            ],
            "text/latex": "$\\displaystyle T_{8}(x) = t^{8} - \\frac{7 t^{6}}{4} + \\frac{15 t^{4}}{16} - \\frac{5 t^{2}}{32} + \\frac{1}{256}$"
          },
          "metadata": {}
        },
        {
          "output_type": "display_data",
          "data": {
            "text/plain": [
              "<IPython.core.display.Math object>"
            ],
            "text/latex": "$\\displaystyle T_{9}(x) = t^{9} - 2 t^{7} + \\frac{21 t^{5}}{16} - \\frac{5 t^{3}}{16} + \\frac{5 t}{256}$"
          },
          "metadata": {}
        },
        {
          "output_type": "display_data",
          "data": {
            "text/plain": [
              "<IPython.core.display.Math object>"
            ],
            "text/latex": "$\\displaystyle T_{10}(x) = t^{10} - \\frac{9 t^{8}}{4} + \\frac{7 t^{6}}{4} - \\frac{35 t^{4}}{64} + \\frac{15 t^{2}}{256} - \\frac{1}{1024}$"
          },
          "metadata": {}
        }
      ],
      "source": [
        "import numpy as np\n",
        "import sympy as sp\n",
        "from functools import lru_cache\n",
        "from scipy.integrate import quad\n",
        "from IPython.display import display, Math\n",
        "from ast import expr_context\n",
        "from sympy import integrate, Symbol, latex\n",
        "\n",
        "t = Symbol('t')\n",
        "\n",
        "#Definimos el nuevo producto interno\n",
        "def producto_cheb(f, g):\n",
        "  return sp.integrate(f*g*sp.sqrt(1-t**2), (t, -1, 1))\n",
        "\n",
        "#Definimos una función para realizar Gram-Schmidt en general\n",
        "def gram_schmidt(monomios, producto_empleado, n):\n",
        "    ortogonales = []\n",
        "    for i in range(n):\n",
        "        v = monomios[i]\n",
        "        for u in ortogonales:\n",
        "            v -= (producto_empleado(v,u)/producto_empleado(u,u)) * u\n",
        "        v = sp.expand(sp.nsimplify(v, rational=True))\n",
        "        ortogonales.append(v)\n",
        "    return ortogonales\n",
        "\n",
        "monomios = [t**i for i in range(20)]\n",
        "\n",
        "#Hacemos Gram_Schmidt para obtener los polinomios de Chebyshev hasta x^10\n",
        "chebyshev = gram_schmidt(monomios, producto_cheb, 11)\n",
        "\n",
        "display(Math(r\"\\textbf{Primeros 10 Polinomios de Chebyshev:}\"))\n",
        "for i, p in enumerate(chebyshev):\n",
        "    display(Math(r\"T_{%d}(x) = %s\" % (i, sp.latex(sp.expand(p)))))"
      ]
    }
  ]
}