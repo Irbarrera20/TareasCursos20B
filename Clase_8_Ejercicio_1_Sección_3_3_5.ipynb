{
  "nbformat": 4,
  "nbformat_minor": 0,
  "metadata": {
    "colab": {
      "provenance": [],
      "authorship_tag": "ABX9TyOZRPrO5kxgThyHD8iZCD83",
      "include_colab_link": true
    },
    "kernelspec": {
      "name": "python3",
      "display_name": "Python 3"
    },
    "language_info": {
      "name": "python"
    }
  },
  "cells": [
    {
      "cell_type": "markdown",
      "metadata": {
        "id": "view-in-github",
        "colab_type": "text"
      },
      "source": [
        "<a href=\"https://colab.research.google.com/github/Irbarrera20/TareasCursos20B/blob/main/Clase_8_Ejercicio_1_Secci%C3%B3n_3_3_5.ipynb\" target=\"_parent\"><img src=\"https://colab.research.google.com/assets/colab-badge.svg\" alt=\"Open In Colab\"/></a>"
      ]
    },
    {
      "cell_type": "markdown",
      "source": [
        "# Ejercicio 1 Sección 3.3.5\n",
        "\n",
        "a) Identifique las componentes del tensor"
      ],
      "metadata": {
        "id": "BMRzGvvJy3g3"
      }
    },
    {
      "cell_type": "code",
      "execution_count": null,
      "metadata": {
        "colab": {
          "base_uri": "https://localhost:8080/"
        },
        "id": "kkOzpNgvywl4",
        "outputId": "212dae68-a6fd-47b6-de05-e8d0574c7139"
      },
      "outputs": [
        {
          "output_type": "stream",
          "name": "stdout",
          "text": [
            "Vector columna de los coeficientes del tensor:\n",
            "Matrix([[a0*b0], [a0*b1], [a0*b2], [a1*b0], [a1*b1], [a1*b2], [a2*b0], [a2*b1], [a2*b2]])\n"
          ]
        }
      ],
      "source": [
        "import sympy\n",
        "from sympy import *\n",
        "x,y= symbols('x y')\n",
        "a0, a1, a2, b0, b1, b2 = symbols('a0 a1 a2 b0 b1 b2')\n",
        "\n",
        "# Definimos los polinomios genéricos y las bases\n",
        "base_x=[x**i for i in range(3)]\n",
        "base_y= [y**i for i in range(3)]\n",
        "\n",
        "p_x= a0*base_x[0] + a1*base_x[1] + a2*base_x[2]\n",
        "p_y= b0*base_y[0] + b1*base_y[1] + b2*base_y[2]\n",
        "\n",
        "# Realizamos el producto tensorial\n",
        "producto_tensorial = p_x*p_y\n",
        "polinomio_pt = Poly(producto_tensorial, x, y)\n",
        "\n",
        "# Hallamos los C^(ij)\n",
        "cij_monom = Matrix([polinomio_pt.coeff_monomial(x**i * y**j) for i in range(3) for j in range(3)])\n",
        "print(\"Vector columna de los coeficientes del tensor:\")\n",
        "print(cij_monom)"
      ]
    },
    {
      "cell_type": "markdown",
      "source": [
        "b) Construya el polinomio tensor"
      ],
      "metadata": {
        "id": "QhpnAwcBzD_m"
      }
    },
    {
      "cell_type": "code",
      "source": [
        "# Definimos los polinomios dados\n",
        "p_1x= 3 + x + x**2\n",
        "p_1y= 1 + y\n",
        "\n",
        "# Repetimos un proceso similar al del inciso a)\n",
        "producto_tensorial= expand(p_1x*p_1y)\n",
        "polinomio_pt = Poly(producto_tensorial, x, y)\n",
        "\n",
        "cij_1x_1y = Matrix([polinomio_pt.coeff_monomial(x**i * y**j) for i in range(3) for j in range(3)])\n",
        "\n",
        "print(\"El polinomio tensor para este caso es: \", producto_tensorial)\n",
        "print(\"Y sus componentes C^(ij) son: \", cij_1x_1y)"
      ],
      "metadata": {
        "colab": {
          "base_uri": "https://localhost:8080/"
        },
        "id": "4E54ep-gzITd",
        "outputId": "0a879df7-6a5f-4359-b05c-d6193b8a79d0"
      },
      "execution_count": null,
      "outputs": [
        {
          "output_type": "stream",
          "name": "stdout",
          "text": [
            "El polinomio tensor para este caso es:  x**2*y + x**2 + x*y + x + 3*y + 3\n",
            "Y sus componentes C^(ij) son:  Matrix([[3], [3], [0], [1], [1], [0], [1], [1], [0]])\n"
          ]
        }
      ]
    },
    {
      "cell_type": "markdown",
      "source": [
        "c) Exprese el polinomio dado en términos de la base de polinomios de Legendre"
      ],
      "metadata": {
        "id": "Epu04Tx7zIhf"
      }
    },
    {
      "cell_type": "code",
      "source": [
        "import sympy as sp\n",
        "\n",
        "# Producto interno en [-1,1]\n",
        "def producto_int(f, g):\n",
        "    return sp.integrate(sp.simplify(f*g), (x, -1, 1))\n",
        "\n",
        "# Obtenemos los polinomios de Legendre\n",
        "base_L= []\n",
        "for v in base_x:\n",
        "    w = v\n",
        "    for u in base_L:\n",
        "        w -= (producto_int(w, u) / producto_int(u, u)) * u\n",
        "        w = sp.expand(sp.nsimplify(w, rational=True))\n",
        "    base_L.append(w)\n",
        "\n",
        "print(\"Polinomios de Legendre estándar:\")\n",
        "for i, Pi in enumerate(base_L):\n",
        "    print(f\"P_{i}(x) = {sp.expand(Pi)}\")\n",
        "\n",
        "# Calculamos los coeficientes para expresar el polinomio dado\n",
        "coef = []\n",
        "for Pi in base_L:\n",
        "    num = producto_int(p_1x, Pi)\n",
        "    den = producto_int(Pi, Pi)\n",
        "    ai = sp.simplify(num / den)\n",
        "    coef.append(ai)\n",
        "\n",
        "print(\"\\nCoeficientes en la base de Legendre:\")\n",
        "for i, ai in enumerate(coef):\n",
        "    print(f\"a_{i} = {ai}\")"
      ],
      "metadata": {
        "colab": {
          "base_uri": "https://localhost:8080/"
        },
        "id": "5EhmgQVTg5Tx",
        "outputId": "415ae3f3-2886-4c66-9cc1-56f4414254d1"
      },
      "execution_count": null,
      "outputs": [
        {
          "output_type": "stream",
          "name": "stdout",
          "text": [
            "Polinomios de Legendre estándar:\n",
            "P_0(x) = 1\n",
            "P_1(x) = x\n",
            "P_2(x) = x**2 - 1/3\n",
            "\n",
            "Coeficientes en la base de Legendre:\n",
            "a_0 = 10/3\n",
            "a_1 = 1\n",
            "a_2 = 1\n"
          ]
        }
      ]
    },
    {
      "cell_type": "markdown",
      "source": [
        "d) Calcule las componentes del tensor respecto a las bases dadad en el espacio tensorial"
      ],
      "metadata": {
        "id": "xTWh5F7SzO7t"
      }
    },
    {
      "cell_type": "code",
      "source": [
        "# Repetiremos un proceso similar pero para la base_y\n",
        "# Producto interno en [-1,1]\n",
        "def producto_int_y(f, g):\n",
        "    return sp.integrate(sp.simplify(f*g), (y, -1, 1))\n",
        "\n",
        "# Obtenemos los polinomios de Legendre para la base_y\n",
        "base_Ly= []\n",
        "for v in base_y:\n",
        "    w = v\n",
        "    for u in base_Ly:\n",
        "        w -= (producto_int_y(w, u) / producto_int_y(u, u)) * u\n",
        "        w = sp.expand(sp.nsimplify(w, rational=True))\n",
        "    base_Ly.append(w)\n",
        "\n",
        "# Calculamos los coeficientes para cada base\n",
        "coef_x = []\n",
        "for Pi in base_L:\n",
        "    num = producto_int(p_x, Pi)\n",
        "    den = producto_int(Pi, Pi)\n",
        "    ai = sp.simplify(num / den)\n",
        "    coef_x.append(ai)\n",
        "\n",
        "coef_y = []\n",
        "for Pi in base_Ly:\n",
        "    num = producto_int_y(p_y, Pi)\n",
        "    den = producto_int_y(Pi, Pi)\n",
        "    bj = sp.simplify(num / den)\n",
        "    coef_y.append(bj)\n",
        "\n",
        "# Hallamos los C^(~ij)\n",
        "cij_tensor = Matrix([ai*bj for bj in coef_y for ai in coef_x])\n",
        "print(\"Coeficientes en la base tensorial de Legendre:\")\n",
        "print(cij_tensor)"
      ],
      "metadata": {
        "colab": {
          "base_uri": "https://localhost:8080/"
        },
        "id": "QECGBWbfzWdG",
        "outputId": "a89fbaaa-fd6a-4860-9a0c-1805f9010a1f"
      },
      "execution_count": null,
      "outputs": [
        {
          "output_type": "stream",
          "name": "stdout",
          "text": [
            "Coeficientes en la base tensorial de Legendre:\n",
            "Matrix([[(a0 + a2/3)*(b0 + b2/3)], [a1*(b0 + b2/3)], [a2*(b0 + b2/3)], [b1*(a0 + a2/3)], [a1*b1], [a2*b1], [b2*(a0 + a2/3)], [a1*b2], [a2*b2]])\n"
          ]
        }
      ]
    }
  ]
}